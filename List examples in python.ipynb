{
 "cells": [
  {
   "cell_type": "markdown",
   "metadata": {},
   "source": [
    "### Sum of even numbers"
   ]
  },
  {
   "cell_type": "code",
   "execution_count": 12,
   "metadata": {},
   "outputs": [
    {
     "name": "stdout",
     "output_type": "stream",
     "text": [
      "90\n"
     ]
    }
   ],
   "source": [
    "def printeven(n):\n",
    "    cnt=0;\n",
    "    sum=0;\n",
    "    while(cnt!=n):\n",
    "        \n",
    "        if(cnt%2==0):\n",
    "            sum=sum+cnt;            \n",
    "        cnt=cnt+1;\n",
    "    return sum;\n",
    "print (printeven(20));\n",
    "     "
   ]
  },
  {
   "cell_type": "markdown",
   "metadata": {},
   "source": [
    "### Factors list of a number"
   ]
  },
  {
   "cell_type": "code",
   "execution_count": 8,
   "metadata": {},
   "outputs": [
    {
     "name": "stdout",
     "output_type": "stream",
     "text": [
      "1 2 3 4 6 "
     ]
    }
   ],
   "source": [
    "def factorslist(n):\n",
    "    i=1;\n",
    "    while(i!=n):\n",
    "        if(n%i==0):\n",
    "            print(i,end=\" \");\n",
    "        i=i+1;\n",
    "    return;\n",
    "factorslist(12);"
   ]
  },
  {
   "cell_type": "markdown",
   "metadata": {},
   "source": [
    "### List in python\n",
    "### Description: List can be written in python with square brackets and each item in the list seperated by comma operator(list can be anything--int,char,float & string)"
   ]
  },
  {
   "cell_type": "code",
   "execution_count": 14,
   "metadata": {},
   "outputs": [
    {
     "name": "stdout",
     "output_type": "stream",
     "text": [
      "[1, 2, 3, 4, 5]\n",
      "1\n"
     ]
    }
   ],
   "source": [
    "list1=[1,2,3,4,5];\n",
    "#entire list\n",
    "print(list1);\n",
    "#list[0]\n",
    "print(list1[0])"
   ]
  },
  {
   "cell_type": "code",
   "execution_count": 16,
   "metadata": {},
   "outputs": [
    {
     "name": "stdout",
     "output_type": "stream",
     "text": [
      "Yash Danita Mrudula "
     ]
    }
   ],
   "source": [
    "list2=[\"Yash\",\"Danita\",\"Mrudula\"];\n",
    "for x in list2:\n",
    "    print(x,end=\" \");"
   ]
  },
  {
   "cell_type": "markdown",
   "metadata": {},
   "source": [
    "### List examples with particular index"
   ]
  },
  {
   "cell_type": "code",
   "execution_count": 33,
   "metadata": {},
   "outputs": [
    {
     "name": "stdout",
     "output_type": "stream",
     "text": [
      "1 2 3 4 5 6 7 8 9 10 \n",
      "5\n",
      "[4, 5, 6, 7]\n",
      "[1, 2, 3]\n",
      "[1, 2, 3]\n",
      "[1, 2, 3, 4, 5, 6, 7]\n",
      "[2, 3, 4, 5, 6, 7, 8, 9]\n",
      "[3, 4, 5, 6, 7, 8]\n",
      "[5, 6]\n",
      "[1, 3, 5, 7, 9]\n",
      "[1, 4, 7, 10]\n",
      "[10, 7, 4, 1]\n",
      "10\n",
      "[7, 8, 9, 10]\n",
      "[8, 9, 10]\n"
     ]
    }
   ],
   "source": [
    "lst1=[1,2,3,4,5,6,7,8,9,10]\n",
    "for x in lst1:\n",
    "    print(x,end=\" \")\n",
    "print();\n",
    "print(lst1[4]);\n",
    "print(lst1[3:7]);\n",
    "print(lst1[0:3]);\n",
    "print(lst1[:3]);\n",
    "print(lst1[:7]);\n",
    "print(lst1[1:-1]);\n",
    "print(lst1[2:-2]);\n",
    "print(lst1[4:-4]);\n",
    "print(lst1[::2]);\n",
    "print(lst1[::3]);\n",
    "print(lst1[::-3]);\n",
    "print(lst1[-1]);\n",
    "print(lst1[-4:]);\n",
    "print(lst1[-3::]);"
   ]
  },
  {
   "cell_type": "markdown",
   "metadata": {},
   "source": [
    "### List with range function"
   ]
  },
  {
   "cell_type": "code",
   "execution_count": 36,
   "metadata": {},
   "outputs": [
    {
     "name": "stdout",
     "output_type": "stream",
     "text": [
      "['yash', 'danita', 'mrudula', 1]\n",
      "['yash', 'danita', 15, 1]\n",
      "['yash', 'danita', 15]\n",
      "['yash', 'Gitam', 15]\n",
      "[1, 2, 3]\n",
      "['yash', 'Gitam', 15, 1, 2, 3]\n"
     ]
    }
   ],
   "source": [
    "lst1=[\"yash\",\"danita\",\"mrudula\",1];\n",
    "print(lst1);\n",
    "lst1[2]=15;#update the list item\n",
    "print(lst1);\n",
    "del lst1[3];# delete the list item\n",
    "print(lst1);\n",
    "lst1[1]=\"Gitam\";\n",
    "print(lst1);\n",
    "lst2=[1,2,3];\n",
    "print(lst2);\n",
    "print(lst1+lst2);#concatination of both the lists"
   ]
  },
  {
   "cell_type": "code",
   "execution_count": 37,
   "metadata": {},
   "outputs": [
    {
     "name": "stdout",
     "output_type": "stream",
     "text": [
      "[1, 2, 3, 4, 5]\n",
      "[1, 2, 4, 5]\n",
      "4\n",
      "[1, 2, 4, 5, 15, 150, 1, 3]\n",
      "2\n",
      "1\n"
     ]
    }
   ],
   "source": [
    "lst1=[1,2,3,4,5]\n",
    "print(lst1);\n",
    "del lst1[2];\n",
    "print(lst1);\n",
    "#lst1[4]=15;\n",
    "print(len(lst1));\n",
    "lst1.append(15);\n",
    "lst1.append(150);\n",
    "lst1.append(1);\n",
    "lst1.append(3);\n",
    "print(lst1);\n",
    "print(lst1.count(1))\n",
    "print(lst1.count(3))"
   ]
  },
  {
   "cell_type": "code",
   "execution_count": 38,
   "metadata": {},
   "outputs": [
    {
     "name": "stdout",
     "output_type": "stream",
     "text": [
      "5\n"
     ]
    }
   ],
   "source": [
    "numbers=[1,2,3,4]\n",
    "numbers.append([5,6,7,8])\n",
    "print(len(numbers))\n"
   ]
  },
  {
   "cell_type": "markdown",
   "metadata": {},
   "source": [
    "## List methods"
   ]
  },
  {
   "cell_type": "code",
   "execution_count": 47,
   "metadata": {},
   "outputs": [
    {
     "name": "stdout",
     "output_type": "stream",
     "text": [
      "['Gitam', 'python', 'raptor', 9, 'python', 'python']\n",
      "['Gitam', 'python', 2019, 'raptor', 9, 'python', 'python']\n",
      "7\n",
      "['Gitam', 'python', 2019, 'raptor', 2020, 9, 'python', 'python']\n",
      "['Gitam', 2019, 'raptor', 2020, 9, 'python', 'python']\n",
      "['Gitam', 2019, 'raptor', 2020, 9, 'python']\n",
      "['python', 9, 2020, 'raptor', 2019, 'Gitam']\n"
     ]
    }
   ],
   "source": [
    "lst1=[\"Gitam\",\"python\",\"raptor\",9,\"python\",\"python\"]\n",
    "print(lst1)\n",
    "lst1.index(\"python\")\n",
    "lst1.index(9)\n",
    "lst1.insert(2,2019)\n",
    "print(lst1)\n",
    "print(len(lst1))\n",
    "lst1.insert(4,2020)\n",
    "print(lst1)\n",
    "lst1.remove(\"python\")\n",
    "print(lst1)\n",
    "lst1.remove(\"python\")\n",
    "print(lst1)\n",
    "lst1.reverse()\n",
    "print(lst1)"
   ]
  },
  {
   "cell_type": "code",
   "execution_count": 55,
   "metadata": {},
   "outputs": [
    {
     "name": "stdout",
     "output_type": "stream",
     "text": [
      "target item not found\n"
     ]
    }
   ],
   "source": [
    "def linearsearch(a,tarItem):\n",
    "    flag=0;\n",
    "    for i in range (len(a)):\n",
    "        if a[i]==tarItem:\n",
    "            flag=1;\n",
    "            break\n",
    "    if(flag!=0):\n",
    "        print(\"target item is found\")\n",
    "    else:\n",
    "        print(\"target item not found\")\n",
    "a=[23,69,13,6,3]\n",
    "linearsearch(a,61)"
   ]
  },
  {
   "cell_type": "code",
   "execution_count": 60,
   "metadata": {},
   "outputs": [
    {
     "name": "stdout",
     "output_type": "stream",
     "text": [
      "2\n"
     ]
    }
   ],
   "source": [
    "def linearSearchDuplicate(a,tarItem):\n",
    "    flag=0;\n",
    "    for i in range (len(a)):\n",
    "        if a[i]==tarItem:\n",
    "            flag=flag+1 \n",
    "    print(flag)\n",
    "a=[9,3,6,9,3,14,15]\n",
    "linearSearchDuplicate(a,9)"
   ]
  },
  {
   "cell_type": "code",
   "execution_count": null,
   "metadata": {},
   "outputs": [],
   "source": []
  }
 ],
 "metadata": {
  "kernelspec": {
   "display_name": "Python 3",
   "language": "python",
   "name": "python3"
  },
  "language_info": {
   "codemirror_mode": {
    "name": "ipython",
    "version": 3
   },
   "file_extension": ".py",
   "mimetype": "text/x-python",
   "name": "python",
   "nbconvert_exporter": "python",
   "pygments_lexer": "ipython3",
   "version": "3.7.3"
  }
 },
 "nbformat": 4,
 "nbformat_minor": 2
}
