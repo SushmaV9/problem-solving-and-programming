{
 "cells": [
  {
   "cell_type": "code",
   "execution_count": 10,
   "metadata": {},
   "outputs": [
    {
     "name": "stdout",
     "output_type": "stream",
     "text": [
      "enter a number2\n",
      "enter lower limit3\n",
      "enter upper limit5\n",
      "0\n"
     ]
    }
   ],
   "source": [
    "digit=int(input(\"enter a number\"));\n",
    "L1=int(input(\"enter lower limit\"));\n",
    "L2=int(input(\"enter upper limit\"));\n",
    "cnt=0;\n",
    "while(L1!=L2):\n",
    "    buffer=L1;\n",
    "    while(L1!=0):\n",
    "        r=L1%10;\n",
    "        if(r==digit):\n",
    "            cnt=cnt+1;\n",
    "        L1=L1/10;\n",
    "    L1=buffer;\n",
    "    L1=L1+1;\n",
    "print(cnt);\n",
    "        "
   ]
  },
  {
   "cell_type": "markdown",
   "metadata": {},
   "source": [
    "#### n NATURAL NUMBERS"
   ]
  },
  {
   "cell_type": "code",
   "execution_count": 2,
   "metadata": {},
   "outputs": [
    {
     "name": "stdout",
     "output_type": "stream",
     "text": [
      "1 2 3 4 5 6 7 8 9 \n",
      "1 2 3 4 5 6 7 8 9 10 11 12 13 14 15 \n"
     ]
    }
   ],
   "source": [
    "def printnNaturalnumbers(n):\n",
    "    cnt=1;\n",
    "    while(cnt<=n):\n",
    "        print(cnt,end=\" \");\n",
    "        cnt=cnt+1;\n",
    "    print()\n",
    "    return\n",
    "printnNaturalnumbers(9);\n",
    "printnNaturalnumbers(15);"
   ]
  },
  {
   "cell_type": "markdown",
   "metadata": {},
   "source": [
    "#### Factorial of given number"
   ]
  },
  {
   "cell_type": "code",
   "execution_count": 8,
   "metadata": {},
   "outputs": [
    {
     "name": "stdout",
     "output_type": "stream",
     "text": [
      "120\n",
      "3628800\n",
      "2432902008176640000\n"
     ]
    }
   ],
   "source": [
    "def findfact(n):\n",
    "    fact=1;\n",
    "    while(n!=0):\n",
    "        fact=fact*n;\n",
    "        n=n-1;\n",
    "    return fact;\n",
    "\n",
    "print(findfact(5));\n",
    "print(findfact(10));\n",
    "print(findfact(20));"
   ]
  },
  {
   "cell_type": "markdown",
   "metadata": {},
   "source": [
    "#### count of palindromes between 2 limits"
   ]
  },
  {
   "cell_type": "code",
   "execution_count": 18,
   "metadata": {},
   "outputs": [
    {
     "name": "stdout",
     "output_type": "stream",
     "text": [
      "2\n",
      "18\n"
     ]
    }
   ],
   "source": [
    "def countofpalindromes(n1,n2):\n",
    "    cnt=0;\n",
    "    while n1!=n2:\n",
    "        sum=0;\n",
    "        buffer=n1;\n",
    "        while n1!=0:\n",
    "            r=n1%10;\n",
    "            sum=(sum*10)+r;\n",
    "            n1=n1//10;\n",
    "        if buffer==sum:\n",
    "            cnt=cnt+1;\n",
    "        n1=buffer\n",
    "        n1=n1+1;\n",
    "    return cnt;\n",
    "print(countofpalindromes(10,30));\n",
    "print(countofpalindromes(1,100));   "
   ]
  },
  {
   "cell_type": "code",
   "execution_count": null,
   "metadata": {},
   "outputs": [],
   "source": []
  }
 ],
 "metadata": {
  "kernelspec": {
   "display_name": "Python 3",
   "language": "python",
   "name": "python3"
  },
  "language_info": {
   "codemirror_mode": {
    "name": "ipython",
    "version": 3
   },
   "file_extension": ".py",
   "mimetype": "text/x-python",
   "name": "python",
   "nbconvert_exporter": "python",
   "pygments_lexer": "ipython3",
   "version": "3.7.3"
  }
 },
 "nbformat": 4,
 "nbformat_minor": 2
}
