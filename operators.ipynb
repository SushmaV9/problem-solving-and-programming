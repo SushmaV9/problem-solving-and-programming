{
 "cells": [
  {
   "cell_type": "code",
   "execution_count": 9,
   "metadata": {},
   "outputs": [
    {
     "name": "stdout",
     "output_type": "stream",
     "text": [
      "11\n",
      "3\n",
      "28\n",
      "1.75\n",
      "3\n",
      "2401\n",
      "1\n"
     ]
    }
   ],
   "source": [
    "x=7\n",
    "y=4\n",
    "sum=x+y\n",
    "difference=x-y\n",
    "product=x*y\n",
    "division=x/y\n",
    "modulus=x%y\n",
    "power=x**y\n",
    "doublediv=x//y\n",
    "print(sum)\n",
    "print(difference)\n",
    "print(product)\n",
    "print(division)\n",
    "print(modulus)\n",
    "print(power)\n",
    "print(doublediv)"
   ]
  },
  {
   "cell_type": "code",
   "execution_count": null,
   "metadata": {},
   "outputs": [],
   "source": []
  },
  {
   "cell_type": "code",
   "execution_count": null,
   "metadata": {},
   "outputs": [],
   "source": []
  }
 ],
 "metadata": {
  "kernelspec": {
   "display_name": "Python 3",
   "language": "python",
   "name": "python3"
  },
  "language_info": {
   "codemirror_mode": {
    "name": "ipython",
    "version": 3
   },
   "file_extension": ".py",
   "mimetype": "text/x-python",
   "name": "python",
   "nbconvert_exporter": "python",
   "pygments_lexer": "ipython3",
   "version": "3.7.3"
  }
 },
 "nbformat": 4,
 "nbformat_minor": 2
}
