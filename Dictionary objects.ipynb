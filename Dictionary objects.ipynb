{
 "cells": [
  {
   "cell_type": "code",
   "execution_count": 1,
   "metadata": {},
   "outputs": [
    {
     "name": "stdout",
     "output_type": "stream",
     "text": [
      "user1[Name]=  Sushma\n",
      "user1[EmailID]=  sushmavejandla9@gmail.com\n",
      "user1[Age]=  19\n",
      "user1[Mobile No.]=  98******43\n"
     ]
    }
   ],
   "source": [
    "user1={'Name':'Sushma','Age':19,'EmailID':'sushmavejandla9@gmail.com','Mobile No.':'98******43'}\n",
    "print(\"user1[Name]= \",user1['Name'])\n",
    "print(\"user1[EmailID]= \",user1['EmailID'])\n",
    "print(\"user1[Age]= \",user1['Age'])\n",
    "print(\"user1[Mobile No.]= \",user1['Mobile No.'])"
   ]
  },
  {
   "cell_type": "code",
   "execution_count": 3,
   "metadata": {},
   "outputs": [
    {
     "name": "stdout",
     "output_type": "stream",
     "text": [
      "sushmavejandla9@gmail.com\n",
      "sushmavejandla9@gmail.com\n",
      "Hyderabad\n"
     ]
    }
   ],
   "source": [
    "user1={'Name':'Sushma','Age':19,'EmailID':'sushmavejandla9@gmail.com','Mobile No.':'98******43'}\n",
    "print(user1['EmailID'])\n",
    "#update the dict object data\n",
    "user1['EmailID']='sushmavejandla9@gmail.com'\n",
    "print(user1['EmailID'])\n",
    "user1['Address']='Hyderabad'   #New entry for an item in dict\n",
    "print(user1['Address'])"
   ]
  },
  {
   "cell_type": "code",
   "execution_count": 7,
   "metadata": {},
   "outputs": [],
   "source": [
    "user1={'Name':'Sushma','Age':19,'EmailID':'sushmavejandla9@gmail.com','Mobile No.':'98******43'}\n",
    "del user1['EmailID']\n",
    "user1.clear()\n",
    "del user1"
   ]
  },
  {
   "cell_type": "code",
   "execution_count": 9,
   "metadata": {},
   "outputs": [
    {
     "name": "stdout",
     "output_type": "stream",
     "text": [
      "{'Name': 'Sushma', 'Age': 19, 'EmailID': 'sushmavejandla9@gmail.com', 'Mobile No.': '98******43'}\n",
      "{'Name': 'Sushma', 'Age': 19, 'Mobile No.': '98******43'}\n"
     ]
    }
   ],
   "source": [
    "user1={'Name':'Sushma','Age':19,'EmailID':'sushmavejandla9@gmail.com','Mobile No.':'98******43'}\n",
    "print (user1)\n",
    "del user1['EmailID']\n",
    "print(user1)"
   ]
  },
  {
   "cell_type": "code",
   "execution_count": 11,
   "metadata": {},
   "outputs": [
    {
     "name": "stdout",
     "output_type": "stream",
     "text": [
      "4\n",
      "5\n"
     ]
    }
   ],
   "source": [
    "user1={'Name':'Sushma','Age':19,'EmailID':'sushmavejandla9@gmail.com','Mobile No.':'98******43'}\n",
    "print(len(user1))\n",
    "user1['Address']='Hyderabad'\n",
    "print(len(user1))"
   ]
  },
  {
   "cell_type": "code",
   "execution_count": 12,
   "metadata": {},
   "outputs": [
    {
     "name": "stdout",
     "output_type": "stream",
     "text": [
      "{'Name': 'Sushma', 'Age': 19, 'EmailID': 'sushmavejandla9@gmail.com', 'Mobile No.': '98******43'}\n",
      "{'Name': 'Sushma', 'Age': 19, 'EmailID': 'sushmavejandla9@gmail.com', 'Mobile No.': '98******43'}\n",
      "{'Name': 'Sushma', 'Age': 19, 'EmailID': 'sushmavejandla9@gmail.com', 'Mobile No.': '98******43', 'Address': 'Hyderabad'}\n",
      "{'Name': 'Sushma', 'Age': 19, 'EmailID': 'sushmavejandla9@gmail.com', 'Mobile No.': '98******43'}\n"
     ]
    }
   ],
   "source": [
    "user1={'Name':'Sushma','Age':19,'EmailID':'sushmavejandla9@gmail.com','Mobile No.':'98******43'}\n",
    "user2=user1.copy()\n",
    "print (user1)\n",
    "print (user2)\n",
    "user1['Address']='Hyderabad'\n",
    "print (user1)\n",
    "print (user2)\n"
   ]
  },
  {
   "cell_type": "code",
   "execution_count": 13,
   "metadata": {},
   "outputs": [
    {
     "name": "stdout",
     "output_type": "stream",
     "text": [
      "dict_values(['Sushma', 19, 'sushmavejandla9@gmail.com', '98******43'])\n",
      "dict_values(['Sushma', 19, 'sushmavejandla9@gmail.com', '98******43'])\n"
     ]
    }
   ],
   "source": [
    "user1={'Name':'Sushma','Age':19,'EmailID':'sushmavejandla9@gmail.com','Mobile No.':'98******43'}\n",
    "user2=user1.copy()\n",
    "print(user1.values())\n",
    "print(user2.values())"
   ]
  },
  {
   "cell_type": "markdown",
   "metadata": {},
   "source": [
    "### string Formatting"
   ]
  },
  {
   "cell_type": "code",
   "execution_count": 14,
   "metadata": {},
   "outputs": [
    {
     "name": "stdout",
     "output_type": "stream",
     "text": [
      "pythonprogramming\n"
     ]
    }
   ],
   "source": [
    "lst=['python','programming']\n",
    "print(\"%s%s\"%(lst[0],lst[1]))"
   ]
  },
  {
   "cell_type": "code",
   "execution_count": 4,
   "metadata": {},
   "outputs": [
    {
     "name": "stdout",
     "output_type": "stream",
     "text": [
      "contact Sushma added\n",
      "contact Mrudula added\n",
      "contact Yash added\n",
      "contact Danita added\n"
     ]
    }
   ],
   "source": [
    "contacts={}\n",
    "def addContact(name,phone):\n",
    "    if name not in contacts:\n",
    "        contacts[name]=phone\n",
    "        print(\"contact %s added\" %name)\n",
    "    else:\n",
    "        print(\"contact %s already exists\"%name)\n",
    "    return\n",
    "addContact(\"Sushma\",988748263)\n",
    "addContact(\"Mrudula\",7042475913)\n",
    "addContact(\"Yash\",917593973)\n",
    "addContact(\"Danita\",912785921)"
   ]
  },
  {
   "cell_type": "code",
   "execution_count": 7,
   "metadata": {},
   "outputs": [
    {
     "name": "stdout",
     "output_type": "stream",
     "text": [
      "Yash : 917593973\n",
      "Sushma : 988748263\n",
      "Mrudula : 7042475913\n",
      "Danita : 912785921\n",
      "Raju does not exists\n"
     ]
    }
   ],
   "source": [
    "#search for a particular contact from contact list\n",
    "def searchContact(name):\n",
    "    if name in contacts:\n",
    "        print(name,\":\",contacts[name])\n",
    "    else:\n",
    "        print(\"%s does not exists\"%name)\n",
    "    return\n",
    "searchContact(\"Yash\")\n",
    "searchContact(\"Sushma\")\n",
    "searchContact(\"Mrudula\")\n",
    "searchContact(\"Danita\")\n",
    "searchContact(\"Raju\")"
   ]
  },
  {
   "cell_type": "code",
   "execution_count": 8,
   "metadata": {},
   "outputs": [
    {
     "name": "stdout",
     "output_type": "stream",
     "text": [
      "{'Sushma': 988748263, 'Mrudula': 7042475913, 'Yash': 917593973, 'Danita': 912785921}\n"
     ]
    }
   ],
   "source": [
    "#New contacts is given as a dictionary\n",
    "print(contacts)"
   ]
  },
  {
   "cell_type": "markdown",
   "metadata": {},
   "source": [
    "### Merge new contact "
   ]
  },
  {
   "cell_type": "code",
   "execution_count": 11,
   "metadata": {},
   "outputs": [
    {
     "name": "stdout",
     "output_type": "stream",
     "text": [
      "2 contacts added successfully\n",
      "{'Sushma': 988748263, 'Mrudula': 7042475913, 'Yash': 917593973, 'Danita': 912785921, 'Harshu': 9681648743, 'Sowmi': 97381683144}\n"
     ]
    }
   ],
   "source": [
    "#New Contacts is given as a dictionary\n",
    "#merge new contacts with existing contacts list\n",
    "def importContacts(newContacts):\n",
    "    contacts.update(newContacts)\n",
    "    print(len(newContacts.keys()),\"contacts added successfully\")\n",
    "    return\n",
    "newContacts={'Harshu':9681648743,'Sowmi':97381683144}\n",
    "importContacts(newContacts)\n",
    "print(contacts)"
   ]
  },
  {
   "cell_type": "markdown",
   "metadata": {},
   "source": [
    "### Delete a contact"
   ]
  },
  {
   "cell_type": "code",
   "execution_count": 14,
   "metadata": {},
   "outputs": [
    {
     "name": "stdout",
     "output_type": "stream",
     "text": [
      "Harshu is not exists in the contacts\n",
      "Sowmi is not exists in the contacts\n",
      "{'Sushma': 988748263, 'Mrudula': 7042475913, 'Yash': 917593973, 'Danita': 912785921}\n"
     ]
    }
   ],
   "source": [
    "#Delete a contact from contacts lists\n",
    "def deleteContacts(name):\n",
    "    if name in contacts:\n",
    "        del contacts[name]\n",
    "        print(name,\": is deleted from the contacts\")\n",
    "    else:\n",
    "        print(name,\"is not exists in the contacts\")\n",
    "    return\n",
    "deleteContacts(\"Harshu\")\n",
    "deleteContacts(\"Sowmi\")\n",
    "print(contacts)"
   ]
  },
  {
   "cell_type": "code",
   "execution_count": 18,
   "metadata": {},
   "outputs": [
    {
     "name": "stdout",
     "output_type": "stream",
     "text": [
      "Sushma : updated with new phone number\n",
      "Yash : updated with new phone number\n",
      "{'Sushma': 7427497548, 'Mrudula': 7042475913, 'Yash': 8472572589, 'Danita': 912785921}\n"
     ]
    }
   ],
   "source": [
    "def updateContact(name,phone):\n",
    "    if name in contacts:\n",
    "        contacts[name]=phone\n",
    "        print(name,\": updated with new phone number\")\n",
    "    else:\n",
    "        print(name,\"not exists in the contacts\")\n",
    "    return\n",
    "updateContact(\"Sushma\",7427497548)\n",
    "updateContact(\"Yash\",8472572589)\n",
    "print(contacts)"
   ]
  },
  {
   "cell_type": "markdown",
   "metadata": {},
   "source": [
    "### String formatting"
   ]
  },
  {
   "cell_type": "code",
   "execution_count": 20,
   "metadata": {},
   "outputs": [
    {
     "name": "stdout",
     "output_type": "stream",
     "text": [
      "1 2 3 4\n"
     ]
    }
   ],
   "source": [
    "lst=[1,2,3,4]\n",
    "print(\"%d %d %d %d\"%(lst[0],lst[1],lst[2],lst[3]))"
   ]
  },
  {
   "cell_type": "code",
   "execution_count": 24,
   "metadata": {},
   "outputs": [
    {
     "name": "stdout",
     "output_type": "stream",
     "text": [
      "value at:1 value at:2\n",
      "value at:3 value at:4\n"
     ]
    }
   ],
   "source": [
    "lst=[1,2,3,4]\n",
    "print(\"value at:{0} value at:{1}\".format(lst[0],lst[1]))\n",
    "print(\"value at:{0} value at:{1}\".format(lst[2],lst[3]))for"
   ]
  },
  {
   "cell_type": "code",
   "execution_count": 26,
   "metadata": {},
   "outputs": [
    {
     "data": {
      "text/plain": [
       "123"
      ]
     },
     "execution_count": 26,
     "metadata": {},
     "output_type": "execute_result"
    }
   ],
   "source": [
    "from math import floor as f1\n",
    "f1(123.456)"
   ]
  },
  {
   "cell_type": "code",
   "execution_count": 30,
   "metadata": {},
   "outputs": [
    {
     "data": {
      "text/plain": [
       "120"
      ]
     },
     "execution_count": 30,
     "metadata": {},
     "output_type": "execute_result"
    }
   ],
   "source": [
    "from math import factorial as fact\n",
    "fact(5)"
   ]
  },
  {
   "cell_type": "code",
   "execution_count": 28,
   "metadata": {},
   "outputs": [
    {
     "data": {
      "text/plain": [
       "120"
      ]
     },
     "execution_count": 28,
     "metadata": {},
     "output_type": "execute_result"
    }
   ],
   "source": [
    "import math\n",
    "math.factorial(5)"
   ]
  },
  {
   "cell_type": "markdown",
   "metadata": {},
   "source": [
    "### Generate the random numbers between two limits"
   ]
  },
  {
   "cell_type": "code",
   "execution_count": 35,
   "metadata": {},
   "outputs": [
    {
     "name": "stdout",
     "output_type": "stream",
     "text": [
      "18 "
     ]
    }
   ],
   "source": [
    "import random\n",
    "def generateRandomNumbers(n,lb,ub):\n",
    "    for i in range(0,n):\n",
    "        print(random.randint(lb,ub),end=\" \")\n",
    "    return\n",
    "generateRandomNumbers(1,10,20)"
   ]
  },
  {
   "cell_type": "code",
   "execution_count": null,
   "metadata": {},
   "outputs": [],
   "source": []
  }
 ],
 "metadata": {
  "kernelspec": {
   "display_name": "Python 3",
   "language": "python",
   "name": "python3"
  },
  "language_info": {
   "codemirror_mode": {
    "name": "ipython",
    "version": 3
   },
   "file_extension": ".py",
   "mimetype": "text/x-python",
   "name": "python",
   "nbconvert_exporter": "python",
   "pygments_lexer": "ipython3",
   "version": "3.7.3"
  }
 },
 "nbformat": 4,
 "nbformat_minor": 2
}
